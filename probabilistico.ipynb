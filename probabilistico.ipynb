{
 "cells": [
  {
   "cell_type": "code",
   "execution_count": 6,
   "id": "74a5a3bd-e026-403a-af6c-a18a898329a3",
   "metadata": {},
   "outputs": [
    {
     "name": "stderr",
     "output_type": "stream",
     "text": [
      "[nltk_data] Downloading package averaged_perceptron_tagger to\n",
      "[nltk_data]     C:\\Users\\Eng4tech\\AppData\\Roaming\\nltk_data...\n",
      "[nltk_data]   Package averaged_perceptron_tagger is already up-to-\n",
      "[nltk_data]       date!\n",
      "[nltk_data] Downloading package punkt to\n",
      "[nltk_data]     C:\\Users\\Eng4tech\\AppData\\Roaming\\nltk_data...\n",
      "[nltk_data]   Package punkt is already up-to-date!\n",
      "[nltk_data] Downloading package stopwords to\n",
      "[nltk_data]     C:\\Users\\Eng4tech\\AppData\\Roaming\\nltk_data...\n",
      "[nltk_data]   Package stopwords is already up-to-date!\n",
      "[nltk_data] Downloading package maxent_ne_chunker to\n",
      "[nltk_data]     C:\\Users\\Eng4tech\\AppData\\Roaming\\nltk_data...\n",
      "[nltk_data]   Package maxent_ne_chunker is already up-to-date!\n",
      "[nltk_data] Downloading package words to\n",
      "[nltk_data]     C:\\Users\\Eng4tech\\AppData\\Roaming\\nltk_data...\n",
      "[nltk_data]   Package words is already up-to-date!\n",
      "[nltk_data] Downloading package vader_lexicon to\n",
      "[nltk_data]     C:\\Users\\Eng4tech\\AppData\\Roaming\\nltk_data...\n",
      "[nltk_data]   Package vader_lexicon is already up-to-date!\n"
     ]
    },
    {
     "data": {
      "text/plain": [
       "True"
      ]
     },
     "execution_count": 6,
     "metadata": {},
     "output_type": "execute_result"
    }
   ],
   "source": [
    "#04/2023\n",
    "\n",
    "import nltk\n",
    "import re\n",
    "from nltk import tokenize\n",
    "from collections import Counter\n",
    "nltk.download('averaged_perceptron_tagger')\n",
    "nltk.download('punkt')\n",
    "nltk.download('stopwords')\n",
    "nltk.download('maxent_ne_chunker')\n",
    "nltk.download('words')\n",
    "nltk.download('vader_lexicon')"
   ]
  },
  {
   "cell_type": "code",
   "execution_count": 7,
   "id": "a80268f6-aff9-4fde-bfbb-3a54f9557750",
   "metadata": {},
   "outputs": [],
   "source": [
    "stopwords = nltk.corpus.stopwords.words('portuguese')\n",
    "stop = set(stopwords)\n",
    "\n",
    "def pre(text):\n",
    "  \n",
    "    letras_min =  re.findall(r'\\b[A-zÀ-úü]+\\b', text.lower())\n",
    "\n",
    "    sem_stopwords = [i for i in letras_min if i not in stop]\n",
    "\n",
    "    texto_limpo = \" \".join(sem_stopwords)\n",
    "\n",
    "    return texto_limpo"
   ]
  },
  {
   "cell_type": "code",
   "execution_count": 8,
   "id": "085ff9c6-1b69-42fa-9aa7-3f473ff2f012",
   "metadata": {},
   "outputs": [],
   "source": [
    "import math\n",
    "\n",
    "def busca_prob(query, documents, N, k1=1.2, k2 = 100, b=0.75):\n",
    "    avg_doc_length = sum(len(doc.split()) for doc in documents) / len(documents)\n",
    "    scores = []\n",
    "    \n",
    "    \n",
    "    for document in documents:\n",
    "        term_frequencies = {}\n",
    "        for term in query.split():\n",
    "            term_frequencies[term] = document.count(term)\n",
    "\n",
    "        \n",
    "        K = k1*((1-b) + b * len(document)/avg_doc_length)\n",
    "        \n",
    "        score = 0\n",
    "        for term, frequency in term_frequencies.items():\n",
    "            df = 1 if frequency > 0 else 0\n",
    "            idf = math.log((N - df + 0.5) / (df + 0.5))\n",
    "            numerator = ((k1 + 1) * frequency) / K + frequency\n",
    "            denominator = (k2 + 1)*1 / (k2+1)\n",
    "            score += idf * (numerator / denominator)\n",
    "\n",
    "        scores.append(score)\n",
    " \n",
    "    return scores\n",
    "\n"
   ]
  },
  {
   "cell_type": "code",
   "execution_count": 9,
   "id": "fac839c8-20f7-4fa0-bfd4-1a62d018f777",
   "metadata": {},
   "outputs": [],
   "source": [
    "query = \"kung fu panda po limites\"\n",
    "texts = [\n",
    "    \"Em um mundo onde a animação transcende os limites do entretenimento infantil, \\\"Kung Fu Panda 2\\\" emerge como uma obra-prima que cativa corações de todas as idades. Este não é apenas um filme; é uma jornada emocional embalada em uma aventura repleta de ação, humor e profundidade emocional.\",\n",
    "    \"No coração desta saga está Po, o Panda Destemido, cuja jornada de autodescoberta continua a encantar e inspirar. O filme mergulha profundamente na psique de Po, explorando suas origens e confrontando os demônios de seu passado. Jack Black, com sua voz distinta e talento inegável, dá vida a este personagem com uma mistura irresistível de humor e vulnerabilidade.\",\n",
    "    \"A trama habilmente tecida envolve Po e seus amigos, os Cinco Furiosos, em uma missão épica para deter um novo vilão, o temível Lord Shen. Gary Oldman empresta sua voz imponente e sinistra para dar vida a este antagonista formidável. A narrativa se desenrola com uma série de reviravoltas emocionantes e momentos de tensão, mantendo os espectadores à beira de seus assentos até o final emocionante.\",\n",
    "    \"No entanto, é a mensagem subjacente de \\\"Kung Fu Panda 2\\\" que verdadeiramente ressoa. O filme aborda temas profundos, como identidade, aceitação e redenção. A jornada de Po é uma busca universal pela autoaceitação e crescimento pessoal, um lembrete inspirador de que não importa de onde viemos, podemos encontrar força e coragem para enfrentar nossos medos mais profundos.\",\n",
    "    \"Além disso, a animação é simplesmente deslumbrante. Cada cena é uma obra de arte meticulosamente renderizada, desde os deslumbrantes cenários até os detalhes intricados das artes marciais. A combinação de arte visual deslumbrante e uma trilha sonora envolvente cria uma experiência cinematográfica que é verdadeiramente imersiva e memorável.\",\n",
    "    \"Em resumo, \\\"Kung Fu Panda 2\\\" transcende as expectativas de uma sequência de filme de animação. É uma obra-prima que encanta, emociona e inspira. Com sua mistura perfeita de ação, humor e profundidade emocional, este filme é uma verdadeira celebração da jornada do herói e uma ode à força do espírito humano. Prepare-se para ser cativado pela magia de \\\"Kung Fu Panda\\\".\"\n",
    "]\n",
    "sanitized_texts = [pre(text) for text in texts]\n",
    "\n",
    "\n"
   ]
  },
  {
   "cell_type": "code",
   "execution_count": 10,
   "id": "ae401046-2ef7-481f-86c7-3dd656fcbdfc",
   "metadata": {},
   "outputs": [
    {
     "name": "stdout",
     "output_type": "stream",
     "text": [
      "[5.784504304222128, 4.337175251105897, 3.2076276143229854, 8.680816477419082, 0.0, 7.724128685358394]\n"
     ]
    }
   ],
   "source": [
    "N = 4\n",
    "print(busca_prob(query, sanitized_texts, N))\n"
   ]
  },
  {
   "cell_type": "code",
   "execution_count": null,
   "id": "e1cf2510-2704-4c64-a17c-462ea7b15cd5",
   "metadata": {},
   "outputs": [],
   "source": []
  }
 ],
 "metadata": {
  "kernelspec": {
   "display_name": "Python 3 (ipykernel)",
   "language": "python",
   "name": "python3"
  },
  "language_info": {
   "codemirror_mode": {
    "name": "ipython",
    "version": 3
   },
   "file_extension": ".py",
   "mimetype": "text/x-python",
   "name": "python",
   "nbconvert_exporter": "python",
   "pygments_lexer": "ipython3",
   "version": "3.10.7"
  }
 },
 "nbformat": 4,
 "nbformat_minor": 5
}
