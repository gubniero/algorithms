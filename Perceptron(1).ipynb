{
 "cells": [
  {
   "cell_type": "code",
   "execution_count": 1,
   "id": "b7beae84-c1a2-49c1-a816-f270140f46f6",
   "metadata": {
    "tags": []
   },
   "outputs": [],
   "source": [
    "#04/2023\n",
    "\n",
    "import pandas as pd\n",
    "import numpy as np\n",
    "import random\n",
    "import math\n",
    "import matplotlib.pyplot as plt\n",
    "from sklearn import datasets\n",
    "from sklearn.model_selection import train_test_split\n",
    "from sklearn.metrics import accuracy_score, mean_squared_error"
   ]
  },
  {
   "cell_type": "markdown",
   "id": "79051fed-5645-4e2a-b3a3-9eeff34dbfb6",
   "metadata": {},
   "source": [
    "# Weighted Sum"
   ]
  },
  {
   "cell_type": "code",
   "execution_count": 2,
   "id": "3546597e-1fa3-46bf-83a0-f03dcde9ef22",
   "metadata": {
    "tags": []
   },
   "outputs": [],
   "source": [
    "def weightedSum(bias, x_input, w_weights):\n",
    "    weighted_sum = 0\n",
    "    \n",
    "    for x, w in zip(x_input, w_weights):\n",
    "        weighted_sum += x * w\n",
    "        \n",
    "    weighted_sum += bias\n",
    "    \n",
    "    return weighted_sum"
   ]
  },
  {
   "cell_type": "markdown",
   "id": "8e7eb37e-590a-422c-acd0-9aa611ff334b",
   "metadata": {},
   "source": [
    "# Activation functions"
   ]
  },
  {
   "cell_type": "markdown",
   "id": "e393b0ca-a630-4aaa-88ad-5060b418b26a",
   "metadata": {},
   "source": [
    "## Step"
   ]
  },
  {
   "cell_type": "code",
   "execution_count": 3,
   "id": "c72cf6af-2812-488b-80d3-6756a0ff572f",
   "metadata": {
    "tags": []
   },
   "outputs": [],
   "source": [
    "def step(weighted_sum):\n",
    "    \n",
    "    if type(weighted_sum) != float:\n",
    "        weighted_sum = float(weighted_sum[0])\n",
    "        \n",
    "    threshold = 0\n",
    "    \n",
    "    if weighted_sum > threshold:\n",
    "        return 1\n",
    "    else:\n",
    "        return 0\n",
    "    \n",
    "    return pred"
   ]
  },
  {
   "cell_type": "markdown",
   "id": "8bf47d0f-9e95-4e41-aa94-e3d334313711",
   "metadata": {},
   "source": [
    "## Sigmoid"
   ]
  },
  {
   "cell_type": "code",
   "execution_count": 4,
   "id": "357b65d3-baf2-4e48-999d-e40cc6325374",
   "metadata": {
    "tags": []
   },
   "outputs": [],
   "source": [
    "def sigmoid(weighted_sum):\n",
    "    \n",
    "    pred = 1 / (1 + np.exp(- weighted_sum))\n",
    "    \n",
    "    return pred"
   ]
  },
  {
   "cell_type": "markdown",
   "id": "cfa78084-da63-4b50-9235-80cf20a39db4",
   "metadata": {},
   "source": [
    "## Linear"
   ]
  },
  {
   "cell_type": "code",
   "execution_count": 5,
   "id": "fd0c74e3-1122-4a7f-a57b-0f30fdf1c8be",
   "metadata": {},
   "outputs": [],
   "source": [
    "def linear(weighted_sum):\n",
    "    return weighted_sum"
   ]
  },
  {
   "cell_type": "markdown",
   "id": "9d968aa3-7aa9-4c22-956b-2142d0d2b60d",
   "metadata": {},
   "source": [
    "# Gradient Descent\n",
    "\n",
    "\n",
    "* Updating weights\n",
    "* Learning rate\n",
    "    * It's a very small floating point scalar, for example: 0.1, 0.01, 0.001\n",
    "    * ensures a gradual weight update\n",
    "* Bias"
   ]
  },
  {
   "cell_type": "code",
   "execution_count": 6,
   "id": "32f9ad0c-a53a-4b08-a993-77f2332ab951",
   "metadata": {
    "tags": []
   },
   "outputs": [],
   "source": [
    "def gradient(w_weights, bias, learning_rate, x_train, y_train, pred, activation):\n",
    "    \n",
    "    new_weights = []\n",
    "    bias += learning_rate * (y_train - pred)\n",
    "    \n",
    "    \n",
    "    if activation == 'sigmoid':\n",
    "            for x, w in zip(x_train, w_weights):\n",
    "                new_w = w + learning_rate * (y_train - pred) * x * (np.exp(-x)/(1+np.exp(-x))**2) # derivada da sig\n",
    "                new_weights.append(new_w)\n",
    "        \n",
    "    else:\n",
    "            for x, w in zip(x_train, w_weights):\n",
    "                new_w = w + learning_rate * (y_train - pred) * x\n",
    "                new_weights.append(new_w) \n",
    "    \n",
    "    return new_weights, bias"
   ]
  },
  {
   "cell_type": "markdown",
   "id": "cc5b46a7-bb4a-4f71-bc20-794a503b23a2",
   "metadata": {},
   "source": [
    "# Learning rate update"
   ]
  },
  {
   "cell_type": "code",
   "execution_count": 7,
   "id": "edec5b3e-0cb5-4642-8529-b91d5b483d34",
   "metadata": {},
   "outputs": [],
   "source": [
    "def stocastic_learning_rate(learning_rate, j):\n",
    "    learning_rate = learning_rate / (1 + j)\n",
    "    \n",
    "    return learning_rate\n",
    "\n",
    "def fixed_learning_rate(first_learning_rate, j):\n",
    "    return first_learning_rate\n",
    "\n",
    "def adaptative_learning_rate(first_learning_rate, j):\n",
    "    learning_rate = first_learning_rate / (1 + j)\n",
    "    \n",
    "    return learning_rate"
   ]
  },
  {
   "cell_type": "markdown",
   "id": "9e91442c-2175-4942-a166-cbbccbbda815",
   "metadata": {},
   "source": [
    "# Perceptron"
   ]
  },
  {
   "cell_type": "code",
   "execution_count": 8,
   "id": "4cf7c6d6-9fc7-49bc-90d1-1a3a3f8f4912",
   "metadata": {
    "tags": []
   },
   "outputs": [],
   "source": [
    "def perceptron(x_train, x_test, y_train, y_test, learning_rate, epochs, activation, learning):\n",
    "    \n",
    "    first_learning_rate = learning_rate\n",
    "    \n",
    "    # Activation selection\n",
    "    activation_functions = {\n",
    "        'step': step,\n",
    "        'sigmoid': sigmoid,\n",
    "        'linear': linear\n",
    "    }\n",
    "    \n",
    "    activation_function = activation_functions.get(activation)\n",
    "    \n",
    "    learning_rate_func = {\n",
    "        'stocastic': stocastic_learning_rate,\n",
    "        'fixed': fixed_learning_rate,\n",
    "        'adaptative': adaptative_learning_rate\n",
    "    }\n",
    "    \n",
    "    learning_function = learning_rate_func.get(learning)\n",
    "    \n",
    "    # Inicial values (weight, bias)\n",
    "    w_weights = [random.gauss(0, 0.5) for _ in range(x_train.shape[1])] # inicial random weights\n",
    "    bias = random.gauss(0, 0.5)\n",
    "    weighted_sum = 0\n",
    "    \n",
    "    # Prediciont list\n",
    "    y_preds = []\n",
    "\n",
    "    # train step\n",
    "    j = 0\n",
    "    while (j != epochs):\n",
    "        for row in range(len(x_train)):\n",
    "            feature = x_train.loc[row]\n",
    "            target = y_train.loc[row]\n",
    "\n",
    "            weighted_sum = weightedSum(bias, feature, w_weights)\n",
    "            pred = activation_function(weighted_sum)\n",
    "            w_weights, bias = gradient(w_weights, bias, learning_rate, feature, target, pred, activation)\n",
    "            \n",
    "        if learning != 'stocastic':\n",
    "            learning_rate = learning_function(first_learning_rate, j)\n",
    "        else:\n",
    "            learning_rate = learning_function(learning_rate, j)\n",
    "        j += 1\n",
    "    \n",
    "    # test step\n",
    "    for row in range(len(x_test)):\n",
    "        feature = x_test.loc[row]\n",
    "        weighted_sum = weightedSum(bias, feature, w_weights)\n",
    "        pred = activation_function(weighted_sum)\n",
    "        \n",
    "        if type(pred) != int:\n",
    "            pred = float(pred[0])\n",
    "        \n",
    "        y_preds.append(pred)\n",
    "\n",
    "    return y_preds, w_weights"
   ]
  },
  {
   "cell_type": "markdown",
   "id": "fe6e3f24-6465-4d34-b114-e866077ae932",
   "metadata": {},
   "source": [
    "### Normalize dataframe"
   ]
  },
  {
   "cell_type": "code",
   "execution_count": 9,
   "id": "fa43ec98-4000-4f0a-842b-1d6763aeb50e",
   "metadata": {
    "tags": []
   },
   "outputs": [],
   "source": [
    "def normalize(DataFrame):\n",
    "    df = DataFrame\n",
    "\n",
    "    min = df.values.min()\n",
    "    max = df.values.max()\n",
    "\n",
    "    df_minmax = (df-min)/(max-min)\n",
    "    return df_minmax,min,max"
   ]
  },
  {
   "cell_type": "markdown",
   "id": "6ac2623d-9c7e-4c29-91a0-335db1a00c75",
   "metadata": {},
   "source": [
    "# Iris"
   ]
  },
  {
   "cell_type": "code",
   "execution_count": 10,
   "id": "36821464-fedd-4107-a44c-a13328280a59",
   "metadata": {
    "tags": []
   },
   "outputs": [],
   "source": [
    "# Loading dataset\n",
    "iris = datasets.load_iris()\n",
    "\n",
    "# to Pandas DataFrame\n",
    "df_iris = pd.DataFrame(iris.data, columns=iris.feature_names)\n",
    "df_iris, min, max = normalize(df_iris) # normalizing values\n",
    "df_iris['target'] = pd.Series(iris.target)\n",
    "\n",
    "\n",
    "\n",
    "# Filtering target \"setosa\" and \"versicolor\"\n",
    "df_filtered = df_iris[df_iris['target'].isin([0, 1])]\n",
    "\n",
    "# Reset index\n",
    "df_filtered.reset_index(drop=True, inplace=True)\n",
    "\n",
    "# Spliting features and targets\n",
    "X = df_filtered.drop('target', axis=1)\n",
    "y = df_filtered['target']\n",
    "\n",
    "# Train-test\n",
    "X_train, X_test, y_train, y_test = train_test_split(X, y, test_size=0.2, random_state=42)\n",
    "\n",
    "X_train = X_train.reset_index().drop('index', axis=1)\n",
    "X_test = X_test.reset_index().drop('index', axis=1)\n",
    "y_train = y_train.reset_index().drop('index', axis=1)\n",
    "y_test = y_test.reset_index().drop('index', axis=1)"
   ]
  },
  {
   "cell_type": "markdown",
   "id": "4aaab303-738a-41de-ba7a-0e506ebe6360",
   "metadata": {},
   "source": [
    "# Classification Iris"
   ]
  },
  {
   "cell_type": "markdown",
   "id": "f6fc75b4-6eaf-4d72-9cb3-05d1aa73cb12",
   "metadata": {},
   "source": [
    "### 1. Sigmoid activation function + fixed learning rate"
   ]
  },
  {
   "cell_type": "code",
   "execution_count": 11,
   "id": "54e4babc-791a-44de-8193-6786aad25573",
   "metadata": {
    "tags": []
   },
   "outputs": [
    {
     "data": {
      "text/plain": [
       "[0.8762542360145814,\n",
       " 0.7963940146092213,\n",
       " 0.8624197502892146,\n",
       " 0.4494079878068249,\n",
       " 0.5053323996069026,\n",
       " 0.45073838122967835,\n",
       " 0.38635019242856145,\n",
       " 0.7701222795246678,\n",
       " 0.44854730268360654,\n",
       " 0.4375313529885993,\n",
       " 0.47966603570017013,\n",
       " 0.4646936200449377,\n",
       " 0.8398238020582807,\n",
       " 0.4301173915476938,\n",
       " 0.8187648621207458,\n",
       " 0.43524356424847344,\n",
       " 0.8557647954802897,\n",
       " 0.8744529387370351,\n",
       " 0.436077562070868,\n",
       " 0.46651803033552824]"
      ]
     },
     "execution_count": 11,
     "metadata": {},
     "output_type": "execute_result"
    }
   ],
   "source": [
    "perceptron_iris, pesos = perceptron(X_train, X_test, y_train, y_test, 0.5, 7, 'sigmoid', 'fixed')\n",
    "\n",
    "perceptron_iris # predictions"
   ]
  },
  {
   "cell_type": "code",
   "execution_count": 12,
   "id": "16652c8c-8bd0-4dc5-a7da-c8b21920c791",
   "metadata": {
    "tags": []
   },
   "outputs": [],
   "source": [
    "binary_preds = [1 if pred > 0.5 else 0 for pred in perceptron_iris]"
   ]
  },
  {
   "cell_type": "code",
   "execution_count": 13,
   "id": "07d800bf-cb4d-4d8f-9178-f7e6283ca79a",
   "metadata": {
    "tags": []
   },
   "outputs": [
    {
     "data": {
      "text/plain": [
       "0.95"
      ]
     },
     "execution_count": 13,
     "metadata": {},
     "output_type": "execute_result"
    }
   ],
   "source": [
    "# Acuracy score\n",
    "acc1 = accuracy_score(y_test, binary_preds)\n",
    "acc1"
   ]
  },
  {
   "cell_type": "markdown",
   "id": "884751fc-258c-4e24-a26e-4b4e8aa17165",
   "metadata": {
    "tags": []
   },
   "source": [
    "### 1.2 Sigmoid activation function + stocastic learning rate"
   ]
  },
  {
   "cell_type": "code",
   "execution_count": 14,
   "id": "51c1aa9e-43a9-46f7-9104-12eca9ff5e23",
   "metadata": {},
   "outputs": [
    {
     "data": {
      "text/plain": [
       "[0.7570707541937093,\n",
       " 0.6691838948467352,\n",
       " 0.7401192016939068,\n",
       " 0.4227140874732414,\n",
       " 0.4732108489532993,\n",
       " 0.4311957165555479,\n",
       " 0.3882695230462265,\n",
       " 0.6499683953521704,\n",
       " 0.4315495726845489,\n",
       " 0.42244688814825204,\n",
       " 0.4510501942760363,\n",
       " 0.4400755662681759,\n",
       " 0.7235974754857253,\n",
       " 0.424234122831364,\n",
       " 0.7014063910219889,\n",
       " 0.423207699796644,\n",
       " 0.7316445472450307,\n",
       " 0.7505280014581597,\n",
       " 0.4197222479495439,\n",
       " 0.43323677389894233]"
      ]
     },
     "execution_count": 14,
     "metadata": {},
     "output_type": "execute_result"
    }
   ],
   "source": [
    "perceptron_iris, pesos = perceptron(X_train, X_test, y_train, y_test, 0.5, 7, 'sigmoid', 'stocastic')\n",
    "\n",
    "perceptron_iris # predictions"
   ]
  },
  {
   "cell_type": "code",
   "execution_count": 15,
   "id": "2598cf70-e89a-4397-bfb9-0850668021af",
   "metadata": {},
   "outputs": [],
   "source": [
    "binary_preds = [1 if pred > 0.5 else 0 for pred in perceptron_iris]"
   ]
  },
  {
   "cell_type": "code",
   "execution_count": 16,
   "id": "13404c72-1a4f-4393-8893-335f1d2cc7c8",
   "metadata": {},
   "outputs": [
    {
     "data": {
      "text/plain": [
       "1.0"
      ]
     },
     "execution_count": 16,
     "metadata": {},
     "output_type": "execute_result"
    }
   ],
   "source": [
    "# Acuracy score\n",
    "acc1 = accuracy_score(y_test, binary_preds)\n",
    "acc1"
   ]
  },
  {
   "cell_type": "markdown",
   "id": "e15a1608-542b-4d8f-a453-5142d6478891",
   "metadata": {},
   "source": [
    "### 1.3 Sigmoid activation function + adaptative learning rate"
   ]
  },
  {
   "cell_type": "code",
   "execution_count": 17,
   "id": "c5a3df59-37ca-4d4f-adf5-457f00131962",
   "metadata": {},
   "outputs": [
    {
     "data": {
      "text/plain": [
       "[0.7713502645274262,\n",
       " 0.6743456492284148,\n",
       " 0.7585985161507642,\n",
       " 0.41679983974168555,\n",
       " 0.4799472297918893,\n",
       " 0.43332618346162366,\n",
       " 0.3836038096074757,\n",
       " 0.654741731925407,\n",
       " 0.4420178140482622,\n",
       " 0.42559837981521303,\n",
       " 0.46884419378372416,\n",
       " 0.43369683564634026,\n",
       " 0.739088261883106,\n",
       " 0.4410537570414528,\n",
       " 0.707085285448209,\n",
       " 0.4253050015914991,\n",
       " 0.758240407518683,\n",
       " 0.777331543252276,\n",
       " 0.4120451208327827,\n",
       " 0.4429392459643644]"
      ]
     },
     "execution_count": 17,
     "metadata": {},
     "output_type": "execute_result"
    }
   ],
   "source": [
    "perceptron_iris, pesos = perceptron(X_train, X_test, y_train, y_test, 0.5, 7, 'sigmoid', 'adaptative')\n",
    "\n",
    "perceptron_iris # predictions"
   ]
  },
  {
   "cell_type": "code",
   "execution_count": 18,
   "id": "a0479bcd-8dd5-475a-8e90-fe72ba92d6a9",
   "metadata": {},
   "outputs": [
    {
     "name": "stdout",
     "output_type": "stream",
     "text": [
      "[target    0.505919\n",
      "dtype: float64, target    0.412304\n",
      "dtype: float64, target    2.872393\n",
      "dtype: float64, target    0.764127\n",
      "dtype: float64]\n"
     ]
    }
   ],
   "source": [
    "print(pesos)"
   ]
  },
  {
   "cell_type": "code",
   "execution_count": 19,
   "id": "443450d2-431f-431e-bfc2-35f20eaafa5a",
   "metadata": {},
   "outputs": [],
   "source": [
    "binary_preds = [1 if pred > 0.5 else 0 for pred in perceptron_iris]"
   ]
  },
  {
   "cell_type": "code",
   "execution_count": 20,
   "id": "e4af1edb-89b4-4591-bd36-ac7b833b8725",
   "metadata": {},
   "outputs": [
    {
     "data": {
      "text/plain": [
       "1.0"
      ]
     },
     "execution_count": 20,
     "metadata": {},
     "output_type": "execute_result"
    }
   ],
   "source": [
    "# Acuracy score\n",
    "acc1 = accuracy_score(y_test, binary_preds)\n",
    "acc1"
   ]
  },
  {
   "cell_type": "markdown",
   "id": "2903046a-dd68-4617-9c6a-85bc6cf6d152",
   "metadata": {},
   "source": [
    "### 2. Step activation function + fixed learning rate"
   ]
  },
  {
   "cell_type": "code",
   "execution_count": 21,
   "id": "68661819-a562-459c-9a3b-77735edac2dc",
   "metadata": {},
   "outputs": [
    {
     "data": {
      "text/plain": [
       "[1, 1, 1, 0, 0, 0, 0, 1, 0, 0, 0, 0, 1, 0, 1, 0, 1, 1, 0, 0]"
      ]
     },
     "execution_count": 21,
     "metadata": {},
     "output_type": "execute_result"
    }
   ],
   "source": [
    "perceptron_iris, pesos = perceptron(X_train, X_test, y_train, y_test, 0.5, 7, 'step', 'fixed')\n",
    "\n",
    "perceptron_iris # predictions"
   ]
  },
  {
   "cell_type": "code",
   "execution_count": 22,
   "id": "dd9ea6cc-6bc0-4329-9797-8794b9e29685",
   "metadata": {
    "tags": []
   },
   "outputs": [
    {
     "data": {
      "text/plain": [
       "1.0"
      ]
     },
     "execution_count": 22,
     "metadata": {},
     "output_type": "execute_result"
    }
   ],
   "source": [
    "# Acurary score\n",
    "acc2 = accuracy_score(y_test, perceptron_iris)\n",
    "acc2"
   ]
  },
  {
   "cell_type": "markdown",
   "id": "4e08b0c6-5e99-4023-9d24-d1ebafb2e11a",
   "metadata": {},
   "source": [
    "### 2.2 Step activation function + stocastic learning rate"
   ]
  },
  {
   "cell_type": "code",
   "execution_count": 23,
   "id": "7aa1bb96-0d86-4f0a-ae56-23af40b773f6",
   "metadata": {},
   "outputs": [
    {
     "data": {
      "text/plain": [
       "[1, 1, 1, 0, 0, 0, 0, 1, 0, 0, 0, 0, 1, 0, 1, 0, 1, 1, 0, 0]"
      ]
     },
     "execution_count": 23,
     "metadata": {},
     "output_type": "execute_result"
    }
   ],
   "source": [
    "perceptron_iris, pesos = perceptron(X_train, X_test, y_train, y_test, 0.5, 7, 'step', 'stocastic')\n",
    "\n",
    "perceptron_iris # predictions"
   ]
  },
  {
   "cell_type": "code",
   "execution_count": 24,
   "id": "228c16cc-adad-4935-a8b5-b2a6eec33d5f",
   "metadata": {},
   "outputs": [
    {
     "data": {
      "text/plain": [
       "1.0"
      ]
     },
     "execution_count": 24,
     "metadata": {},
     "output_type": "execute_result"
    }
   ],
   "source": [
    "# Acurary score\n",
    "acc2 = accuracy_score(y_test, perceptron_iris)\n",
    "acc2"
   ]
  },
  {
   "cell_type": "markdown",
   "id": "9b35b534-b557-464c-ad39-c405153a68b9",
   "metadata": {},
   "source": [
    "### 2.3 Step activation function + adaptative learning rate"
   ]
  },
  {
   "cell_type": "code",
   "execution_count": 25,
   "id": "77b3446e-2581-4955-8a5c-688c418d3e0e",
   "metadata": {},
   "outputs": [
    {
     "data": {
      "text/plain": [
       "[1, 1, 1, 0, 0, 0, 0, 1, 0, 0, 0, 0, 1, 0, 1, 0, 1, 1, 0, 0]"
      ]
     },
     "execution_count": 25,
     "metadata": {},
     "output_type": "execute_result"
    }
   ],
   "source": [
    "perceptron_iris, pesos = perceptron(X_train, X_test, y_train, y_test, 0.5, 7, 'step', 'adaptative')\n",
    "\n",
    "perceptron_iris # predictions"
   ]
  },
  {
   "cell_type": "code",
   "execution_count": 26,
   "id": "71b1990f-69ca-4079-845e-03c01d36a8b7",
   "metadata": {},
   "outputs": [
    {
     "data": {
      "text/plain": [
       "1.0"
      ]
     },
     "execution_count": 26,
     "metadata": {},
     "output_type": "execute_result"
    }
   ],
   "source": [
    "# Acurary score\n",
    "acc2 = accuracy_score(y_test, perceptron_iris)\n",
    "acc2"
   ]
  },
  {
   "cell_type": "markdown",
   "id": "aa01b67c-3ba7-4423-9de5-f71b5e9624a3",
   "metadata": {},
   "source": [
    "# Regression"
   ]
  },
  {
   "cell_type": "code",
   "execution_count": 27,
   "id": "f52001c0-2c56-4427-ab51-c1b5267c3f95",
   "metadata": {
    "tags": []
   },
   "outputs": [
    {
     "data": {
      "text/html": [
       "<div>\n",
       "<style scoped>\n",
       "    .dataframe tbody tr th:only-of-type {\n",
       "        vertical-align: middle;\n",
       "    }\n",
       "\n",
       "    .dataframe tbody tr th {\n",
       "        vertical-align: top;\n",
       "    }\n",
       "\n",
       "    .dataframe thead th {\n",
       "        text-align: right;\n",
       "    }\n",
       "</style>\n",
       "<table border=\"1\" class=\"dataframe\">\n",
       "  <thead>\n",
       "    <tr style=\"text-align: right;\">\n",
       "      <th></th>\n",
       "      <th>X1</th>\n",
       "      <th>X2</th>\n",
       "      <th>X3</th>\n",
       "      <th>X4</th>\n",
       "    </tr>\n",
       "  </thead>\n",
       "  <tbody>\n",
       "    <tr>\n",
       "      <th>0</th>\n",
       "      <td>0.662304</td>\n",
       "      <td>0.307501</td>\n",
       "      <td>0.725569</td>\n",
       "      <td>0.890647</td>\n",
       "    </tr>\n",
       "    <tr>\n",
       "      <th>1</th>\n",
       "      <td>0.806700</td>\n",
       "      <td>0.033413</td>\n",
       "      <td>0.228427</td>\n",
       "      <td>0.481434</td>\n",
       "    </tr>\n",
       "    <tr>\n",
       "      <th>2</th>\n",
       "      <td>0.493973</td>\n",
       "      <td>0.999878</td>\n",
       "      <td>0.207023</td>\n",
       "      <td>0.563786</td>\n",
       "    </tr>\n",
       "    <tr>\n",
       "      <th>3</th>\n",
       "      <td>0.935626</td>\n",
       "      <td>0.905713</td>\n",
       "      <td>0.903737</td>\n",
       "      <td>1.234820</td>\n",
       "    </tr>\n",
       "    <tr>\n",
       "      <th>4</th>\n",
       "      <td>0.885396</td>\n",
       "      <td>0.621128</td>\n",
       "      <td>0.418826</td>\n",
       "      <td>0.774905</td>\n",
       "    </tr>\n",
       "    <tr>\n",
       "      <th>...</th>\n",
       "      <td>...</td>\n",
       "      <td>...</td>\n",
       "      <td>...</td>\n",
       "      <td>...</td>\n",
       "    </tr>\n",
       "    <tr>\n",
       "      <th>195</th>\n",
       "      <td>0.402820</td>\n",
       "      <td>0.322202</td>\n",
       "      <td>0.649471</td>\n",
       "      <td>0.754864</td>\n",
       "    </tr>\n",
       "    <tr>\n",
       "      <th>196</th>\n",
       "      <td>0.613381</td>\n",
       "      <td>0.281637</td>\n",
       "      <td>0.165011</td>\n",
       "      <td>0.422351</td>\n",
       "    </tr>\n",
       "    <tr>\n",
       "      <th>197</th>\n",
       "      <td>0.796132</td>\n",
       "      <td>0.726993</td>\n",
       "      <td>0.513465</td>\n",
       "      <td>0.845010</td>\n",
       "    </tr>\n",
       "    <tr>\n",
       "      <th>198</th>\n",
       "      <td>0.312061</td>\n",
       "      <td>0.757657</td>\n",
       "      <td>0.814357</td>\n",
       "      <td>0.946635</td>\n",
       "    </tr>\n",
       "    <tr>\n",
       "      <th>199</th>\n",
       "      <td>0.526390</td>\n",
       "      <td>0.111740</td>\n",
       "      <td>0.351385</td>\n",
       "      <td>0.511373</td>\n",
       "    </tr>\n",
       "  </tbody>\n",
       "</table>\n",
       "<p>200 rows × 4 columns</p>\n",
       "</div>"
      ],
      "text/plain": [
       "           X1        X2        X3        X4\n",
       "0    0.662304  0.307501  0.725569  0.890647\n",
       "1    0.806700  0.033413  0.228427  0.481434\n",
       "2    0.493973  0.999878  0.207023  0.563786\n",
       "3    0.935626  0.905713  0.903737  1.234820\n",
       "4    0.885396  0.621128  0.418826  0.774905\n",
       "..        ...       ...       ...       ...\n",
       "195  0.402820  0.322202  0.649471  0.754864\n",
       "196  0.613381  0.281637  0.165011  0.422351\n",
       "197  0.796132  0.726993  0.513465  0.845010\n",
       "198  0.312061  0.757657  0.814357  0.946635\n",
       "199  0.526390  0.111740  0.351385  0.511373\n",
       "\n",
       "[200 rows x 4 columns]"
      ]
     },
     "execution_count": 27,
     "metadata": {},
     "output_type": "execute_result"
    }
   ],
   "source": [
    "# Creating a regression dataset\n",
    "x1 = np.random.rand(200)\n",
    "x2 = np.random.rand(200)\n",
    "x3 = np.random.rand(200)\n",
    "\n",
    "x4 = 0.3 * x1 + 0.2 * x2 + 0.8 * x3 + 0.05\n",
    "\n",
    "regression_data = pd.DataFrame({\n",
    "    'X1': x1,\n",
    "    'X2': x2,\n",
    "    'X3': x3,\n",
    "    'X4': x4\n",
    "})\n",
    "\n",
    "regression_data"
   ]
  },
  {
   "cell_type": "code",
   "execution_count": 28,
   "id": "0ce4b499-1791-4755-8f9e-60a6a1371862",
   "metadata": {
    "tags": []
   },
   "outputs": [],
   "source": [
    "# Features and target\n",
    "X = regression_data.drop(columns=['X4'])\n",
    "y = regression_data['X4'] # target\n",
    "\n",
    "# Train-test\n",
    "X_train, X_test, y_train, y_test = train_test_split(X, y, test_size=0.2, random_state=42)\n",
    "\n",
    "X_train = X_train.reset_index().drop('index', axis=1)\n",
    "X_test = X_test.reset_index().drop('index', axis=1)\n",
    "y_train = y_train.reset_index().drop('index', axis=1)\n",
    "y_test = y_test.reset_index().drop('index', axis=1)"
   ]
  },
  {
   "cell_type": "markdown",
   "id": "3e65b827-2ed1-4a25-bfa8-e92e6f7a1b28",
   "metadata": {},
   "source": [
    "### 1.1 Linear activation function + fixed learning rate"
   ]
  },
  {
   "cell_type": "code",
   "execution_count": 29,
   "id": "26457fbc-5447-4547-b508-c351ee2b0f13",
   "metadata": {
    "tags": []
   },
   "outputs": [
    {
     "data": {
      "text/plain": [
       "[0.6031479082487711,\n",
       " 0.8155606016761254,\n",
       " 0.5315027573987596,\n",
       " 0.5723018947026974,\n",
       " 0.8059761014105574,\n",
       " 0.5508769095127762,\n",
       " 0.5948741707798937,\n",
       " 0.9178152178535508,\n",
       " 0.5022666987593727,\n",
       " 0.9817434168828013,\n",
       " 1.07999923977206,\n",
       " 1.0131258760883104,\n",
       " 0.48464710850138676,\n",
       " 1.0160666274474952,\n",
       " 1.0746055718398622,\n",
       " 0.50123675492926,\n",
       " 0.8511485310308577,\n",
       " 1.169612844993042,\n",
       " 0.7353305168971891,\n",
       " 0.40705613383535655,\n",
       " 0.7938690675201958,\n",
       " 0.345006192871556,\n",
       " 1.1031433887792113,\n",
       " 0.9720840428234793,\n",
       " 0.3384466173831127,\n",
       " 0.6470740742797297,\n",
       " 0.7398995575338799,\n",
       " 0.40010343873150145,\n",
       " 0.9925432683451009,\n",
       " 0.5280293262674991,\n",
       " 0.9977660436509015,\n",
       " 0.9993840286847824,\n",
       " 1.0824553383355047,\n",
       " 0.9952909036366069,\n",
       " 0.8859607544650203,\n",
       " 0.7363714273109185,\n",
       " 0.2672910906237932,\n",
       " 0.747307672564669,\n",
       " 0.5644278978547503,\n",
       " 0.8338345805038847]"
      ]
     },
     "execution_count": 29,
     "metadata": {},
     "output_type": "execute_result"
    }
   ],
   "source": [
    "perceptron_regression, pesos = perceptron(X_train, X_test, y_train, y_test, 0.2, 5, 'linear', 'fixed')\n",
    "\n",
    "perceptron_regression # predictions"
   ]
  },
  {
   "cell_type": "code",
   "execution_count": 30,
   "id": "a6093f92-bbd6-4d48-b267-cc9230031ebb",
   "metadata": {
    "tags": []
   },
   "outputs": [
    {
     "data": {
      "text/plain": [
       "6.523604388822274e-09"
      ]
     },
     "execution_count": 30,
     "metadata": {},
     "output_type": "execute_result"
    }
   ],
   "source": [
    "# MSE\n",
    "mean_squared_error(y_test, perceptron_regression)"
   ]
  },
  {
   "cell_type": "code",
   "execution_count": 31,
   "id": "a49d5fa4-f329-4303-b602-cfbc1d309cbd",
   "metadata": {
    "tags": []
   },
   "outputs": [
    {
     "data": {
      "text/plain": [
       "[X4    0.300175\n",
       " dtype: float64,\n",
       " X4    0.200163\n",
       " dtype: float64,\n",
       " X4    0.800199\n",
       " dtype: float64]"
      ]
     },
     "execution_count": 31,
     "metadata": {},
     "output_type": "execute_result"
    }
   ],
   "source": [
    "# Perceptron weights \n",
    "pesos"
   ]
  },
  {
   "cell_type": "markdown",
   "id": "ca07eb62-290f-40df-acdc-6eef424184f5",
   "metadata": {},
   "source": [
    "### 1.2 Linear activation function + stocastic learning rate"
   ]
  },
  {
   "cell_type": "code",
   "execution_count": 32,
   "id": "b00186ea-f57a-4825-8966-81c757c689a2",
   "metadata": {
    "tags": []
   },
   "outputs": [
    {
     "data": {
      "text/plain": [
       "[0.6026090597433769,\n",
       " 0.8162489619242018,\n",
       " 0.5322082292249745,\n",
       " 0.5721581897002432,\n",
       " 0.8054138444337596,\n",
       " 0.5505455128030096,\n",
       " 0.5955644402754389,\n",
       " 0.9177417175933648,\n",
       " 0.5020507570995729,\n",
       " 0.9815289387501935,\n",
       " 1.0805149930976847,\n",
       " 1.0136258506171776,\n",
       " 0.48452038250917095,\n",
       " 1.0161779909634758,\n",
       " 1.0745780054861649,\n",
       " 0.5009754232329189,\n",
       " 0.8508957575974344,\n",
       " 1.170421204824163,\n",
       " 0.7348195073651105,\n",
       " 0.407297335254881,\n",
       " 0.7934858366997006,\n",
       " 0.34500083334732107,\n",
       " 1.103976200535321,\n",
       " 0.9723645376100719,\n",
       " 0.3386411742993637,\n",
       " 0.6469556048008815,\n",
       " 0.7404905792272469,\n",
       " 0.39941597347571545,\n",
       " 0.9921687830088353,\n",
       " 0.5284314444196219,\n",
       " 0.9975423232306605,\n",
       " 1.0001587755258132,\n",
       " 1.0828643556957636,\n",
       " 0.9958816273317028,\n",
       " 0.8853513028113065,\n",
       " 0.7357640367830628,\n",
       " 0.2663917905634994,\n",
       " 0.7472336283297122,\n",
       " 0.5637976429127992,\n",
       " 0.8343458773450435]"
      ]
     },
     "execution_count": 32,
     "metadata": {},
     "output_type": "execute_result"
    }
   ],
   "source": [
    "perceptron_regression, pesos = perceptron(X_train, X_test, y_train, y_test, 0.2, 5, 'linear', 'stocastic')\n",
    "\n",
    "perceptron_regression # predictions"
   ]
  },
  {
   "cell_type": "code",
   "execution_count": 33,
   "id": "1933ff6d-1910-4708-ac5f-e03895c1cb23",
   "metadata": {
    "tags": []
   },
   "outputs": [
    {
     "data": {
      "text/plain": [
       "2.9822742750525894e-07"
      ]
     },
     "execution_count": 33,
     "metadata": {},
     "output_type": "execute_result"
    }
   ],
   "source": [
    "# MSE\n",
    "mean_squared_error(y_test, perceptron_regression)"
   ]
  },
  {
   "cell_type": "code",
   "execution_count": 34,
   "id": "97a03451-97e1-4d02-bac9-4f4ae5291503",
   "metadata": {
    "tags": []
   },
   "outputs": [
    {
     "data": {
      "text/plain": [
       "[X4    0.300887\n",
       " dtype: float64,\n",
       " X4    0.201789\n",
       " dtype: float64,\n",
       " X4    0.800607\n",
       " dtype: float64]"
      ]
     },
     "execution_count": 34,
     "metadata": {},
     "output_type": "execute_result"
    }
   ],
   "source": [
    "# Perceptron weights \n",
    "pesos"
   ]
  },
  {
   "cell_type": "markdown",
   "id": "75ea0922-61e2-48a0-8239-b754928898af",
   "metadata": {},
   "source": [
    "### 1.3 Linear activation function + adaptative learning rate"
   ]
  },
  {
   "cell_type": "code",
   "execution_count": 35,
   "id": "892ac4f4-b8c0-40f9-8050-4ef941853cd6",
   "metadata": {
    "tags": []
   },
   "outputs": [
    {
     "data": {
      "text/plain": [
       "[0.603521645909341,\n",
       " 0.8150352382623122,\n",
       " 0.5311972937858755,\n",
       " 0.5724878761734161,\n",
       " 0.8059554081078238,\n",
       " 0.5509931980774208,\n",
       " 0.5945601679880507,\n",
       " 0.9174660145435529,\n",
       " 0.5024579891449368,\n",
       " 0.981405874421992,\n",
       " 1.0793000455266297,\n",
       " 1.0125102393113943,\n",
       " 0.48477620691035794,\n",
       " 1.0156527296832851,\n",
       " 1.0740140188283276,\n",
       " 0.5014179514302138,\n",
       " 0.8510045976702384,\n",
       " 1.168585463851911,\n",
       " 0.7354911893056754,\n",
       " 0.40725979392554584,\n",
       " 0.7938381149304509,\n",
       " 0.34533267168544324,\n",
       " 1.1022574651678299,\n",
       " 0.9717211947353749,\n",
       " 0.33876112950310644,\n",
       " 0.6471498748956415,\n",
       " 0.7394495481771827,\n",
       " 0.4006914575047122,\n",
       " 0.9922502236045075,\n",
       " 0.5278586268674931,\n",
       " 0.9973992894208118,\n",
       " 0.9985890090905711,\n",
       " 1.0817882258835743,\n",
       " 0.9947076130964446,\n",
       " 0.8859714730684158,\n",
       " 0.7365513597955555,\n",
       " 0.2681035449009419,\n",
       " 0.7471547294573054,\n",
       " 0.5647396726916004,\n",
       " 0.8334824300820303]"
      ]
     },
     "execution_count": 35,
     "metadata": {},
     "output_type": "execute_result"
    }
   ],
   "source": [
    "perceptron_regression, pesos = perceptron(X_train, X_test, y_train, y_test, 0.2, 5, 'linear', 'adaptative')\n",
    "\n",
    "perceptron_regression # predictions"
   ]
  },
  {
   "cell_type": "code",
   "execution_count": 36,
   "id": "c3be2838-29b0-4632-8334-60660121b264",
   "metadata": {
    "tags": []
   },
   "outputs": [
    {
     "data": {
      "text/plain": [
       "1.301363547908476e-07"
      ]
     },
     "execution_count": 36,
     "metadata": {},
     "output_type": "execute_result"
    }
   ],
   "source": [
    "# MSE\n",
    "mean_squared_error(y_test, perceptron_regression)"
   ]
  },
  {
   "cell_type": "code",
   "execution_count": 37,
   "id": "de1adb48-a0b8-470d-8dac-da6260e4d669",
   "metadata": {
    "tags": []
   },
   "outputs": [
    {
     "data": {
      "text/plain": [
       "[X4    0.299276\n",
       " dtype: float64,\n",
       " X4    0.199235\n",
       " dtype: float64,\n",
       " X4    0.799143\n",
       " dtype: float64]"
      ]
     },
     "execution_count": 37,
     "metadata": {},
     "output_type": "execute_result"
    }
   ],
   "source": [
    "# Perceptron weights \n",
    "pesos"
   ]
  }
 ],
 "metadata": {
  "kernelspec": {
   "display_name": "Python 3 (ipykernel)",
   "language": "python",
   "name": "python3"
  },
  "language_info": {
   "codemirror_mode": {
    "name": "ipython",
    "version": 3
   },
   "file_extension": ".py",
   "mimetype": "text/x-python",
   "name": "python",
   "nbconvert_exporter": "python",
   "pygments_lexer": "ipython3",
   "version": "3.10.7"
  }
 },
 "nbformat": 4,
 "nbformat_minor": 5
}
